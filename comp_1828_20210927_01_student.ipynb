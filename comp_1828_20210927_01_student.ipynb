{
  "nbformat": 4,
  "nbformat_minor": 0,
  "metadata": {
    "anaconda-cloud": {},
    "kernelspec": {
      "display_name": "Python 3",
      "language": "python",
      "name": "python3"
    },
    "language_info": {
      "codemirror_mode": {
        "name": "ipython",
        "version": 3
      },
      "file_extension": ".py",
      "mimetype": "text/x-python",
      "name": "python",
      "nbconvert_exporter": "python",
      "pygments_lexer": "ipython3",
      "version": "3.5.1"
    },
    "colab": {
      "name": "comp-1828-20210927-01-student",
      "provenance": [],
      "collapsed_sections": [],
      "include_colab_link": true
    }
  },
  "cells": [
    {
      "cell_type": "markdown",
      "metadata": {
        "id": "view-in-github",
        "colab_type": "text"
      },
      "source": [
        "<a href=\"https://colab.research.google.com/github/Leonel-Jeffrey/COMP-1828/blob/main/comp_1828_20210927_01_student.ipynb\" target=\"_parent\"><img src=\"https://colab.research.google.com/assets/colab-badge.svg\" alt=\"Open In Colab\"/></a>"
      ]
    },
    {
      "cell_type": "markdown",
      "metadata": {
        "id": "IqJmm1IirvHU"
      },
      "source": [
        "##### Copyright 2021 Atsushi Suzuki, 2020 Constantinos Ierotheou"
      ]
    },
    {
      "cell_type": "markdown",
      "metadata": {
        "id": "pD92M8aTH5Tn"
      },
      "source": [
        "# Asymptotic complexity\n",
        "- COMP 1828 IT lab: 27 Sep 2021\n",
        "$\\newcommand{\\Vec}[1]{\\boldsymbol{#1}}$\n",
        "$\\newcommand{\\Mat}[1]{\\boldsymbol{#1}}$\n",
        "## Aim\n",
        "- Revise the (rough) definition of the complexity.\n",
        "## Note: to execute a cell, press SHIFT + ENTER"
      ]
    },
    {
      "cell_type": "markdown",
      "metadata": {
        "id": "wV5ws1hMEhEU"
      },
      "source": [
        "## Before tackling problems, please import libraries by executing this cell.\n",
        "- matplotlib: for plotting\n",
        "- NumPy: for vectors, matrices\n"
      ]
    },
    {
      "cell_type": "code",
      "metadata": {
        "id": "Pr_DG_GXkBX-"
      },
      "source": [
        "%matplotlib inline\n",
        "import matplotlib.pyplot as plt # for plotting\n",
        "import seaborn as sns; sns.set()  # for plot styling\n",
        "import numpy as np # linear algebra library"
      ],
      "execution_count": null,
      "outputs": []
    },
    {
      "cell_type": "markdown",
      "metadata": {
        "id": "RTaAimvbtX7N"
      },
      "source": [
        "## Revision: Asymptotic complexity\n",
        "- Basic ideas: \n",
        "  - ignore a constant factor,\n",
        "  - consider a sufficiently large argument.\n",
        "- **Big-O**: $T(n) = O(g(n))$: $T(n)$ is asymptotically upper-bounded by $g(n)$.\n",
        "  - Mathematical definition: $\\exists M > 0, \\exists n_0 \\ge 0: n \\ge n_0 \\Rightarrow T(n) \\le M g(n)$.\n",
        "  - For sufficiently large $n$, $T(n)$ is upper-bounded by $g(n)$ up to a constant factor.\n",
        "- **Big-Omega**: $T(n) = \\Omega (g(n))$: $T(n)$ is asymptotically lower-bounded by $g(n)$.\n",
        "  - Mathematical definition: $\\exists M > 0, \\exists n_0 \\ge 0: n \\ge n_0 \\Rightarrow T(n) \\ge M g(n)$.\n",
        "  - For sufficiently large $n$, $T(n)$ is lower-bounded by $g(n)$ up to a constant factor.\n",
        "- **Big-Theta**: $T(n) = \\Theta (g(n))$: $T(n)$ is asymptotically lower-bounded by $g(n)$.\n",
        "  - Mathematical definition: $T(n) = O(n)$ and $T(n) = \\Omega(n)$.\n",
        "  - For sufficiently large $n$, $T(n)$ is upper and lower-bounded by $g(n)$ up to a constant factor (different constants for upper and lower-bounded).\n"
      ]
    },
    {
      "cell_type": "markdown",
      "metadata": {
        "id": "TKYNXFhEU5pZ"
      },
      "source": [
        "## Question 1\n",
        "(a) The following algorithms examined have revealed what their operation count is. \n",
        "Using this as a starting point what is the order ($\\Theta$) for each of the algorithms below? Where $n$ denotes the size of the problem input:\n",
        "- Algorithm A: $n^4 + 2n + 1$,\n",
        "- Algorithm B: $3n^2 + 4000 n + 2000$,\n",
        "- Algorithm C: $2^n + n^2$,\n",
        "- Algorithm D: $n + 100 n \\log_2 n + 10000$."
      ]
    },
    {
      "cell_type": "markdown",
      "metadata": {
        "id": "3i34l9uFW_CD"
      },
      "source": [
        "(b) Which is the most and least efficient of the algorithms above when\n",
        "\n",
        "- i). $n = 10$,\n",
        "\n",
        "- ii). $n = 10^3 = 1000$.\n"
      ]
    },
    {
      "cell_type": "markdown",
      "metadata": {
        "id": "YLUIb2Iizsr4"
      },
      "source": [
        "You can use the following cell as a calculator"
      ]
    },
    {
      "cell_type": "code",
      "metadata": {
        "colab": {
          "base_uri": "https://localhost:8080/"
        },
        "id": "bk4tuQWe2HS3",
        "outputId": "455df9ae-52bb-4f17-84c8-a236ce1720ce"
      },
      "source": [
        "import numpy as np\n",
        "print('Algorithm A with n = 10:', 10 ** 4 + 2 * 10 + 1)\n",
        "print('Algorithm B with n = 10:', 3 * (10 ** 2) + 4000 * 10 + 2000)\n",
        "print('Algorithm C with n = 10:', 2 ** 10 + 10 ** 2)\n",
        "print('Algorithm D with n = 10:', 10 + 100 * 10 * np.log2(10) + 10000)\n"
      ],
      "execution_count": null,
      "outputs": [
        {
          "output_type": "stream",
          "name": "stdout",
          "text": [
            "Algorithm A with n = 10: 10021\n",
            "Algorithm B with n = 10: 42300\n",
            "Algorithm C with n = 10: 1124\n",
            "Algorithm D with n = 10: 13331.928094887362\n"
          ]
        }
      ]
    },
    {
      "cell_type": "markdown",
      "metadata": {
        "id": "Yo5c5Rz7XMm8"
      },
      "source": [
        "Note: in this big data era, $n$ can be $10^7$ or $10^8$; hence the asymptotic complexity is getting more important."
      ]
    },
    {
      "cell_type": "markdown",
      "metadata": {
        "id": "FmzCuR0lXlHc"
      },
      "source": [
        "## Question 2\n",
        "The table below gives the complexities of some sorting algorithms.\n",
        "\n",
        "| Sorting algorithm | Worst case time complexity | Average time complexity | (Auxiliary) space complexity |\n",
        "| :--- | ---: | ---: | ---: |\n",
        "| bubble sort | $\\Theta (n^2)$ | $\\Theta (n^2)$ | $\\Theta (1)$ |\n",
        "| heap sort | $\\Theta (n \\log n)$ | $\\Theta (n \\log n)$ | $\\Theta (1)$ |\n",
        "| merge sort | $\\Theta (n \\log n)$ | $\\Theta (n \\log n)$ | $\\Theta (n)$ |\n",
        "| quick sort | $\\Theta (n^2)$ | $\\Theta (n \\log n)$ | $\\Theta (n \\log n)$ |\n",
        "\n",
        "For a list of $n$ elements that need to be sorted, comment of the efficiency of the algorithms. \n",
        "Which is the best, worst and which would you recommend in that case.\n",
        "\n",
        "- i). $n = 10$,\n",
        "\n",
        "- ii). $n = 10^7 = 10000000$.\n"
      ]
    },
    {
      "cell_type": "markdown",
      "metadata": {
        "id": "TPnjoP7WoVI3"
      },
      "source": [
        "### Question 2 Appendix: Calculate the elapsed time\n",
        "In the following cell, we calculate the elapsed time of aort algorithms for sequences of size $n = 1, 2, \\dots, 100$. The execution may take a few minutes."
      ]
    },
    {
      "cell_type": "code",
      "metadata": {
        "id": "ExgXJrbPjhcx"
      },
      "source": [
        "import numpy as np\n",
        "import time\n",
        "ns = 500 * np.arange(10, dtype=int)\n",
        "\n",
        "def bubble_sort(seq):\n",
        "  n = len(seq)\n",
        "  for i in range(n):\n",
        "    for j in range(n-1, i, -1):\n",
        "        if seq[j-1] > seq[j]:\n",
        "          seq[j], seq[j-1] = seq[j-1], seq[j]\n",
        "  return seq\n",
        "\n",
        "sort_algs = {\n",
        "  'bubble': lambda x: bubble_sort(x),\n",
        "  'heap': lambda x: np.sort(x, kind='heapsort'),\n",
        "  'merge': lambda x: np.sort(x, kind='mergesort'),\n",
        "  'quick': lambda x: np.sort(x, kind='quicksort'),\n",
        "}\n",
        "elapsed_times = {alg_name: np.zeros_like(ns, dtype=float) for alg_name in sort_algs}\n",
        "\n",
        "for i, n in enumerate(ns):\n",
        "  seq = np.random.default_rng(0).choice(n, size=n, replace=False) # random sequence\n",
        "  for alg_name, sort_alg in sort_algs.items():\n",
        "    starting_time = time.time()\n",
        "    sorted_seq = sort_alg(seq)\n",
        "    end_time = time.time()\n",
        "    elapsed_times[alg_name][i] = end_time - starting_time\n"
      ],
      "execution_count": 16,
      "outputs": []
    },
    {
      "cell_type": "markdown",
      "metadata": {
        "id": "qp1jwQgNvg3G"
      },
      "source": [
        "### Question 2 Appendix: Plot the elapsed time of sort algorithms"
      ]
    },
    {
      "cell_type": "code",
      "metadata": {
        "colab": {
          "base_uri": "https://localhost:8080/",
          "height": 229
        },
        "id": "PMYG4r8toyxL",
        "outputId": "1e22a312-ccd8-46f7-e750-95dec7398dfc"
      },
      "source": [
        "import matplotlib.pyplot as plt\n",
        "import seaborn as sns; sns.set()\n",
        "for alg_name, elapsed_time in elapsed_times.items():\n",
        "  plt.plot(ns, elapsed_time, label=alg_name)\n",
        "plt.xlabel('input size $n$')\n",
        "plt.ylabel('elapsed time /s')\n",
        "plt.legend()\n",
        "plt.title('Elapsed times of sort algorithms')"
      ],
      "execution_count": 15,
      "outputs": [
        {
          "output_type": "error",
          "ename": "AttributeError",
          "evalue": "ignored",
          "traceback": [
            "\u001b[0;31m---------------------------------------------------------------------------\u001b[0m",
            "\u001b[0;31mAttributeError\u001b[0m                            Traceback (most recent call last)",
            "\u001b[0;32m<ipython-input-15-c4c691015ce0>\u001b[0m in \u001b[0;36m<module>\u001b[0;34m()\u001b[0m\n\u001b[1;32m      1\u001b[0m \u001b[0;32mimport\u001b[0m \u001b[0mmatplotlib\u001b[0m\u001b[0;34m.\u001b[0m\u001b[0mpyplot\u001b[0m \u001b[0;32mas\u001b[0m \u001b[0mplt\u001b[0m\u001b[0;34m\u001b[0m\u001b[0;34m\u001b[0m\u001b[0m\n\u001b[1;32m      2\u001b[0m \u001b[0;32mimport\u001b[0m \u001b[0mseaborn\u001b[0m \u001b[0;32mas\u001b[0m \u001b[0msns\u001b[0m\u001b[0;34m;\u001b[0m \u001b[0msns\u001b[0m\u001b[0;34m.\u001b[0m\u001b[0mset\u001b[0m\u001b[0;34m(\u001b[0m\u001b[0;34m)\u001b[0m\u001b[0;34m\u001b[0m\u001b[0;34m\u001b[0m\u001b[0m\n\u001b[0;32m----> 3\u001b[0;31m \u001b[0;32mfor\u001b[0m \u001b[0malg_name\u001b[0m\u001b[0;34m,\u001b[0m \u001b[0melapsed_time\u001b[0m \u001b[0;32min\u001b[0m \u001b[0melapsed_times\u001b[0m\u001b[0;34m.\u001b[0m\u001b[0mitems\u001b[0m\u001b[0;34m(\u001b[0m\u001b[0;34m)\u001b[0m\u001b[0;34m:\u001b[0m\u001b[0;34m\u001b[0m\u001b[0;34m\u001b[0m\u001b[0m\n\u001b[0m\u001b[1;32m      4\u001b[0m   \u001b[0mplt\u001b[0m\u001b[0;34m.\u001b[0m\u001b[0mplot\u001b[0m\u001b[0;34m(\u001b[0m\u001b[0mns\u001b[0m\u001b[0;34m,\u001b[0m \u001b[0melapsed_time\u001b[0m\u001b[0;34m,\u001b[0m \u001b[0mlabel\u001b[0m\u001b[0;34m=\u001b[0m\u001b[0malg_name\u001b[0m\u001b[0;34m)\u001b[0m\u001b[0;34m\u001b[0m\u001b[0;34m\u001b[0m\u001b[0m\n\u001b[1;32m      5\u001b[0m \u001b[0mplt\u001b[0m\u001b[0;34m.\u001b[0m\u001b[0mxlabel\u001b[0m\u001b[0;34m(\u001b[0m\u001b[0;34m'input size $n$'\u001b[0m\u001b[0;34m)\u001b[0m\u001b[0;34m\u001b[0m\u001b[0;34m\u001b[0m\u001b[0m\n",
            "\u001b[0;31mAttributeError\u001b[0m: 'numpy.ndarray' object has no attribute 'items'"
          ]
        }
      ]
    },
    {
      "cell_type": "markdown",
      "metadata": {
        "id": "seJmbHz_3Kvk"
      },
      "source": [
        "Note: if it took 5 seconds to show the search result, customers would not use your website."
      ]
    },
    {
      "cell_type": "markdown",
      "metadata": {
        "id": "91COd8MRvpQH"
      },
      "source": [
        "### Question 2 Appendix: Plot the elapsed time of sort algorithms (other than the quick sort)"
      ]
    },
    {
      "cell_type": "code",
      "metadata": {
        "colab": {
          "base_uri": "https://localhost:8080/",
          "height": 229
        },
        "id": "_w9dihKKq7NJ",
        "outputId": "026f8a4a-9be3-4b5a-9b29-d3f5a65c78ee"
      },
      "source": [
        "import matplotlib.pyplot as plt\n",
        "import seaborn as sns; sns.set()\n",
        "for alg_name, elapsed_time in {alg_name: elapsed_time for alg_name, elapsed_time in elapsed_times.items() if alg_name != 'bubble'}.items():\n",
        "  plt.plot(ns, elapsed_time, label=alg_name)\n",
        "plt.xlabel('input size $n$')\n",
        "plt.ylabel('elapsed time /s')\n",
        "plt.legend()\n",
        "plt.title('Elapsed times of sort algorithms')"
      ],
      "execution_count": 14,
      "outputs": [
        {
          "output_type": "error",
          "ename": "AttributeError",
          "evalue": "ignored",
          "traceback": [
            "\u001b[0;31m---------------------------------------------------------------------------\u001b[0m",
            "\u001b[0;31mAttributeError\u001b[0m                            Traceback (most recent call last)",
            "\u001b[0;32m<ipython-input-14-dd8fafe826ba>\u001b[0m in \u001b[0;36m<module>\u001b[0;34m()\u001b[0m\n\u001b[1;32m      1\u001b[0m \u001b[0;32mimport\u001b[0m \u001b[0mmatplotlib\u001b[0m\u001b[0;34m.\u001b[0m\u001b[0mpyplot\u001b[0m \u001b[0;32mas\u001b[0m \u001b[0mplt\u001b[0m\u001b[0;34m\u001b[0m\u001b[0;34m\u001b[0m\u001b[0m\n\u001b[1;32m      2\u001b[0m \u001b[0;32mimport\u001b[0m \u001b[0mseaborn\u001b[0m \u001b[0;32mas\u001b[0m \u001b[0msns\u001b[0m\u001b[0;34m;\u001b[0m \u001b[0msns\u001b[0m\u001b[0;34m.\u001b[0m\u001b[0mset\u001b[0m\u001b[0;34m(\u001b[0m\u001b[0;34m)\u001b[0m\u001b[0;34m\u001b[0m\u001b[0;34m\u001b[0m\u001b[0m\n\u001b[0;32m----> 3\u001b[0;31m \u001b[0;32mfor\u001b[0m \u001b[0malg_name\u001b[0m\u001b[0;34m,\u001b[0m \u001b[0melapsed_time\u001b[0m \u001b[0;32min\u001b[0m \u001b[0;34m{\u001b[0m\u001b[0malg_name\u001b[0m\u001b[0;34m:\u001b[0m \u001b[0melapsed_time\u001b[0m \u001b[0;32mfor\u001b[0m \u001b[0malg_name\u001b[0m\u001b[0;34m,\u001b[0m \u001b[0melapsed_time\u001b[0m \u001b[0;32min\u001b[0m \u001b[0melapsed_times\u001b[0m\u001b[0;34m.\u001b[0m\u001b[0mitems\u001b[0m\u001b[0;34m(\u001b[0m\u001b[0;34m)\u001b[0m \u001b[0;32mif\u001b[0m \u001b[0malg_name\u001b[0m \u001b[0;34m!=\u001b[0m \u001b[0;34m'bubble'\u001b[0m\u001b[0;34m}\u001b[0m\u001b[0;34m.\u001b[0m\u001b[0mitems\u001b[0m\u001b[0;34m(\u001b[0m\u001b[0;34m)\u001b[0m\u001b[0;34m:\u001b[0m\u001b[0;34m\u001b[0m\u001b[0;34m\u001b[0m\u001b[0m\n\u001b[0m\u001b[1;32m      4\u001b[0m   \u001b[0mplt\u001b[0m\u001b[0;34m.\u001b[0m\u001b[0mplot\u001b[0m\u001b[0;34m(\u001b[0m\u001b[0mns\u001b[0m\u001b[0;34m,\u001b[0m \u001b[0melapsed_time\u001b[0m\u001b[0;34m,\u001b[0m \u001b[0mlabel\u001b[0m\u001b[0;34m=\u001b[0m\u001b[0malg_name\u001b[0m\u001b[0;34m)\u001b[0m\u001b[0;34m\u001b[0m\u001b[0;34m\u001b[0m\u001b[0m\n\u001b[1;32m      5\u001b[0m \u001b[0mplt\u001b[0m\u001b[0;34m.\u001b[0m\u001b[0mxlabel\u001b[0m\u001b[0;34m(\u001b[0m\u001b[0;34m'input size $n$'\u001b[0m\u001b[0;34m)\u001b[0m\u001b[0;34m\u001b[0m\u001b[0;34m\u001b[0m\u001b[0m\n",
            "\u001b[0;31mAttributeError\u001b[0m: 'numpy.ndarray' object has no attribute 'items'"
          ]
        }
      ]
    },
    {
      "cell_type": "markdown",
      "metadata": {
        "id": "2VwwDqStel7B"
      },
      "source": [
        "## Question 3\n",
        "A square matrix has the same number of rows and columns and its size is defined by the variable $n$. \n",
        "Below is a code to generate two random matrices `A` and `B` of the size of `n`.\n",
        "\n"
      ]
    },
    {
      "cell_type": "code",
      "metadata": {
        "colab": {
          "base_uri": "https://localhost:8080/",
          "height": 233
        },
        "id": "ULSo2Q3NgDgo",
        "outputId": "1c253dcf-4abf-4da8-9e92-facb51943e35"
      },
      "source": [
        "# Students do not need to understand this cell.\n",
        "import numpy as np\n",
        "def gen_rand_sq_mat(n):\n",
        "  max_int = 2000\n",
        "  rng = np.random.default_rng(0)\n",
        "  A, B = rng.integers(max_int, size=[n, n]), rng.integers(max_int, size=[n, n])\n",
        "  return A, B\n",
        "A, B = gen_rand_sq_mat(n=5)\n",
        "print('A =')\n",
        "display(A)\n",
        "print('B =')\n",
        "display(B)"
      ],
      "execution_count": null,
      "outputs": [
        {
          "output_type": "stream",
          "name": "stdout",
          "text": [
            "A =\n"
          ]
        },
        {
          "output_type": "display_data",
          "data": {
            "text/plain": [
              "array([[1701, 1273, 1022,  539,  615],\n",
              "       [  81,  150,   33,  350, 1626],\n",
              "       [1298, 1825, 1007, 1213, 1941],\n",
              "       [1458, 1264, 1087, 1119, 1870],\n",
              "       [ 554, 1631, 1341,    5,  788]])"
            ]
          },
          "metadata": {}
        },
        {
          "output_type": "stream",
          "name": "stdout",
          "text": [
            "B =\n"
          ]
        },
        {
          "output_type": "display_data",
          "data": {
            "text/plain": [
              "array([[1714, 1108,   67, 1529, 1459],\n",
              "       [1693,  351,  178, 1726,   44],\n",
              "       [1082,  160,  599,  962,  845],\n",
              "       [ 806,   56,   10,  248,   16],\n",
              "       [1341, 1051, 1294,  514, 1230]])"
            ]
          },
          "metadata": {}
        }
      ]
    },
    {
      "cell_type": "markdown",
      "metadata": {
        "id": "fmj2ezwLgCEU"
      },
      "source": [
        "The code fragment below performs the multiplication of two square matrices `A` and `B` and stores the result in matrix `C`."
      ]
    },
    {
      "cell_type": "code",
      "metadata": {
        "id": "RnPn75q5fcJs"
      },
      "source": [
        "def mat_mul(A, B, n):\n",
        "  # initialize `C`: Please ignore this line from the complexity discussion.\n",
        "  C = np.zeros([n, n], dtype=int)\n",
        "\n",
        "  #loop over rows\n",
        "  for i in range(n):\n",
        "    #loop over columns\n",
        "    for j in range(n):\n",
        "      #initialise element c[i,j]\n",
        "      C[i, j] = 0\n",
        "      #process row-column interactions and sum them into array c\n",
        "      for k in range(n):\n",
        "        C[i, j] = C[i, j] + A[i, k] * B[k, j]\n",
        "  return C"
      ],
      "execution_count": 1,
      "outputs": []
    },
    {
      "cell_type": "markdown",
      "metadata": {
        "id": "2pHp43AZiRx1"
      },
      "source": [
        "**Question**: what is the computational complexity in terms of $n$ (`n` in the code) for the algorithm? \n",
        "Here, assume that it takes time $c$ for each assignment, addition, and multiplication operation.\n"
      ]
    },
    {
      "cell_type": "markdown",
      "metadata": {
        "id": "7Nd6Wg67mt6O"
      },
      "source": [
        "### Question 3 Appendix: Calculate the elapsed time\n",
        "In the following cell, we calculate the elapsed time of matrix multiplication for matrices of size $n = 1, 2, \\dots, 100$. The execution may take a few minutes."
      ]
    },
    {
      "cell_type": "code",
      "metadata": {
        "id": "8xSLmHrnnzoW",
        "outputId": "2baeb1f0-a718-4b10-d629-fef3a6151508",
        "colab": {
          "base_uri": "https://localhost:8080/",
          "height": 363
        }
      },
      "source": [
        "import time\n",
        "\n",
        "ns = np.arange(100, dtype=int)\n",
        "elapsed_times = np.zeros_like(ns, dtype=float)\n",
        "for i, n in enumerate(ns):\n",
        "  A, B = gen_rand_sq_mat(n)\n",
        "  starting_time = time.time()\n",
        "  C = mat_mul(A, B, n)\n",
        "  end_time = time.time()\n",
        "  elapsed_times[i] = end_time - starting_time\n"
      ],
      "execution_count": 6,
      "outputs": [
        {
          "output_type": "error",
          "ename": "ModuleNotFoundError",
          "evalue": "ignored",
          "traceback": [
            "\u001b[0;31m---------------------------------------------------------------------------\u001b[0m",
            "\u001b[0;31mModuleNotFoundError\u001b[0m                       Traceback (most recent call last)",
            "\u001b[0;32m<ipython-input-6-98810fcc0c66>\u001b[0m in \u001b[0;36m<module>\u001b[0;34m()\u001b[0m\n\u001b[1;32m      1\u001b[0m \u001b[0;32mimport\u001b[0m \u001b[0mtime\u001b[0m\u001b[0;34m\u001b[0m\u001b[0;34m\u001b[0m\u001b[0m\n\u001b[0;32m----> 2\u001b[0;31m \u001b[0;32mimport\u001b[0m \u001b[0mgen_rand_sq_mat\u001b[0m\u001b[0;34m\u001b[0m\u001b[0;34m\u001b[0m\u001b[0m\n\u001b[0m\u001b[1;32m      3\u001b[0m \u001b[0mns\u001b[0m \u001b[0;34m=\u001b[0m \u001b[0mnp\u001b[0m\u001b[0;34m.\u001b[0m\u001b[0marange\u001b[0m\u001b[0;34m(\u001b[0m\u001b[0;36m100\u001b[0m\u001b[0;34m,\u001b[0m \u001b[0mdtype\u001b[0m\u001b[0;34m=\u001b[0m\u001b[0mint\u001b[0m\u001b[0;34m)\u001b[0m\u001b[0;34m\u001b[0m\u001b[0;34m\u001b[0m\u001b[0m\n\u001b[1;32m      4\u001b[0m \u001b[0melapsed_times\u001b[0m \u001b[0;34m=\u001b[0m \u001b[0mnp\u001b[0m\u001b[0;34m.\u001b[0m\u001b[0mzeros_like\u001b[0m\u001b[0;34m(\u001b[0m\u001b[0mns\u001b[0m\u001b[0;34m,\u001b[0m \u001b[0mdtype\u001b[0m\u001b[0;34m=\u001b[0m\u001b[0mfloat\u001b[0m\u001b[0;34m)\u001b[0m\u001b[0;34m\u001b[0m\u001b[0;34m\u001b[0m\u001b[0m\n\u001b[1;32m      5\u001b[0m \u001b[0;32mfor\u001b[0m \u001b[0mi\u001b[0m\u001b[0;34m,\u001b[0m \u001b[0mn\u001b[0m \u001b[0;32min\u001b[0m \u001b[0menumerate\u001b[0m\u001b[0;34m(\u001b[0m\u001b[0mns\u001b[0m\u001b[0;34m)\u001b[0m\u001b[0;34m:\u001b[0m\u001b[0;34m\u001b[0m\u001b[0;34m\u001b[0m\u001b[0m\n",
            "\u001b[0;31mModuleNotFoundError\u001b[0m: No module named 'gen_rand_sq_mat'",
            "",
            "\u001b[0;31m---------------------------------------------------------------------------\u001b[0;32m\nNOTE: If your import is failing due to a missing package, you can\nmanually install dependencies using either !pip or !apt.\n\nTo view examples of installing some common dependencies, click the\n\"Open Examples\" button below.\n\u001b[0;31m---------------------------------------------------------------------------\u001b[0m\n"
          ],
          "errorDetails": {
            "actions": [
              {
                "action": "open_url",
                "actionText": "Open Examples",
                "url": "/notebooks/snippets/importing_libraries.ipynb"
              }
            ]
          }
        }
      ]
    },
    {
      "cell_type": "markdown",
      "metadata": {
        "id": "FkTYFiG9qnaH"
      },
      "source": [
        "### Question 3 Appendix: Plot the elapsed time"
      ]
    },
    {
      "cell_type": "code",
      "metadata": {
        "colab": {
          "base_uri": "https://localhost:8080/",
          "height": 306
        },
        "id": "uZy8dol_qmvA",
        "outputId": "7bae43d7-0c1e-4eab-b296-32a93456e55f"
      },
      "source": [
        "import matplotlib.pyplot as plt\n",
        "import seaborn as sns; sns.set()\n",
        "plt.plot(ns, elapsed_times)\n",
        "plt.xlabel('input size $n$')\n",
        "plt.ylabel('elapsed time /s')"
      ],
      "execution_count": 7,
      "outputs": [
        {
          "output_type": "execute_result",
          "data": {
            "text/plain": [
              "Text(0, 0.5, 'elapsed time /s')"
            ]
          },
          "metadata": {},
          "execution_count": 7
        },
        {
          "output_type": "display_data",
          "data": {
            "image/png": "[encoded data removed]",
            "text/plain": [
              "<Figure size 432x288 with 1 Axes>"
            ]
          },
          "metadata": {}
        }
      ]
    },
    {
      "cell_type": "markdown",
      "metadata": {
        "id": "fOZIM9_krh-N"
      },
      "source": [
        "### Question 3 Appendix: Scale the x-axis to see the asymptotic complexity describes the behaviour of the performance for a large $n$. (PLEASE MODIFY CODES)"
      ]
    },
    {
      "cell_type": "code",
      "metadata": {
        "id": "aJjCZaDimYFi"
      },
      "source": [
        "import numpy as np\n",
        "\n",
        "def complexity_scale(n):\n",
        "  # ---- Modify codes here ---- #\n",
        "  # Assign the asymptotic complexity of the algorithm `mat_mul`.\n",
        "  # Example 1: If the algorithm is on the order of n^5, then please assign\n",
        "  # complexity = n ** 5\n",
        "  # Example 2: If the algorithm is on the order of 2^n log n, then please assign\n",
        "  # complexity = n * np.log2(n) \n",
        "  complexity = n * np.log2(n)\n",
        "  # ---- Modify codes here ---- #\n",
        "  return complexity"
      ],
      "execution_count": 12,
      "outputs": []
    },
    {
      "cell_type": "markdown",
      "metadata": {
        "id": "v0CI7XqusA6s"
      },
      "source": [
        "### Question 3 Appendix: Plot with the scaled x-axis\n",
        "If you define the `complexity_scale` function correctly, the plot will look like a linear function."
      ]
    },
    {
      "cell_type": "code",
      "metadata": {
        "colab": {
          "base_uri": "https://localhost:8080/",
          "height": 369
        },
        "id": "Oa7xPb2uo3DD",
        "outputId": "edcaa1fa-86cb-417f-f137-07b69b6cdc5b"
      },
      "source": [
        "import matplotlib.pyplot as plt\n",
        "import seaborn as sns; sns.set()\n",
        "plt.plot(complexity_scale(ns), elapsed_times)\n",
        "plt.xlabel('scaled input size')\n",
        "plt.ylabel('elapsed time')"
      ],
      "execution_count": 11,
      "outputs": [
        {
          "output_type": "stream",
          "name": "stderr",
          "text": [
            "/usr/local/lib/python3.7/dist-packages/ipykernel_launcher.py:10: RuntimeWarning: divide by zero encountered in log2\n",
            "  # Remove the CWD from sys.path while we load stuff.\n",
            "/usr/local/lib/python3.7/dist-packages/ipykernel_launcher.py:10: RuntimeWarning: invalid value encountered in multiply\n",
            "  # Remove the CWD from sys.path while we load stuff.\n"
          ]
        },
        {
          "output_type": "execute_result",
          "data": {
            "text/plain": [
              "Text(0, 0.5, 'elapsed time')"
            ]
          },
          "metadata": {},
          "execution_count": 11
        },
        {
          "output_type": "display_data",
          "data": {
            "image/png": "[encoded data removed]",
            "text/plain": [
              "<Figure size 432x288 with 1 Axes>"
            ]
          },
          "metadata": {}
        }
      ]
    },
    {
      "cell_type": "markdown",
      "metadata": {
        "id": "_9wLoNgdh5rB"
      },
      "source": [
        "Note: Let's check the result."
      ]
    },
    {
      "cell_type": "code",
      "metadata": {
        "colab": {
          "base_uri": "https://localhost:8080/",
          "height": 229
        },
        "id": "iAuVFPSmh83B",
        "outputId": "8f0f74d9-28e6-41b4-ebef-aec61196e1d4"
      },
      "source": [
        "print('The result of numpy multiplication:')\n",
        "display(A @ B)\n",
        "print('The result by our implementation:')\n",
        "display(mat_mul(A, B, n))"
      ],
      "execution_count": 9,
      "outputs": [
        {
          "output_type": "stream",
          "name": "stdout",
          "text": [
            "The result of numpy multiplication:\n"
          ]
        },
        {
          "output_type": "error",
          "ename": "NameError",
          "evalue": "ignored",
          "traceback": [
            "\u001b[0;31m---------------------------------------------------------------------------\u001b[0m",
            "\u001b[0;31mNameError\u001b[0m                                 Traceback (most recent call last)",
            "\u001b[0;32m<ipython-input-9-e930d604bac7>\u001b[0m in \u001b[0;36m<module>\u001b[0;34m()\u001b[0m\n\u001b[1;32m      1\u001b[0m \u001b[0mprint\u001b[0m\u001b[0;34m(\u001b[0m\u001b[0;34m'The result of numpy multiplication:'\u001b[0m\u001b[0;34m)\u001b[0m\u001b[0;34m\u001b[0m\u001b[0;34m\u001b[0m\u001b[0m\n\u001b[0;32m----> 2\u001b[0;31m \u001b[0mdisplay\u001b[0m\u001b[0;34m(\u001b[0m\u001b[0mA\u001b[0m \u001b[0;34m@\u001b[0m \u001b[0mB\u001b[0m\u001b[0;34m)\u001b[0m\u001b[0;34m\u001b[0m\u001b[0;34m\u001b[0m\u001b[0m\n\u001b[0m\u001b[1;32m      3\u001b[0m \u001b[0mprint\u001b[0m\u001b[0;34m(\u001b[0m\u001b[0;34m'The result by our implementation:'\u001b[0m\u001b[0;34m)\u001b[0m\u001b[0;34m\u001b[0m\u001b[0;34m\u001b[0m\u001b[0m\n\u001b[1;32m      4\u001b[0m \u001b[0mdisplay\u001b[0m\u001b[0;34m(\u001b[0m\u001b[0mmat_mul\u001b[0m\u001b[0;34m(\u001b[0m\u001b[0mA\u001b[0m\u001b[0;34m,\u001b[0m \u001b[0mB\u001b[0m\u001b[0;34m,\u001b[0m \u001b[0mn\u001b[0m\u001b[0;34m)\u001b[0m\u001b[0;34m)\u001b[0m\u001b[0;34m\u001b[0m\u001b[0;34m\u001b[0m\u001b[0m\n",
            "\u001b[0;31mNameError\u001b[0m: name 'A' is not defined"
          ]
        }
      ]
    }
  ]
}