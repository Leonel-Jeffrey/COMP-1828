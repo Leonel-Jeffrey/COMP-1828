{
  "nbformat": 4,
  "nbformat_minor": 0,
  "metadata": {
    "anaconda-cloud": {},
    "kernelspec": {
      "display_name": "Python 3",
      "language": "python",
      "name": "python3"
    },
    "language_info": {
      "codemirror_mode": {
        "name": "ipython",
        "version": 3
      },
      "file_extension": ".py",
      "mimetype": "text/x-python",
      "name": "python",
      "nbconvert_exporter": "python",
      "pygments_lexer": "ipython3",
      "version": "3.5.1"
    },
    "colab": {
      "name": "comp-1828-20210927-01-student",
      "provenance": [],
      "collapsed_sections": [],
      "include_colab_link": true
    }
  },
  "cells": [
    {
      "cell_type": "markdown",
      "metadata": {
        "id": "view-in-github",
        "colab_type": "text"
      },
      "source": [
        "<a href=\"https://colab.research.google.com/github/Leonel-Jeffrey/COMP-1828/blob/main/comp_1828_20210927_01_student.ipynb\" target=\"_parent\"><img src=\"https://colab.research.google.com/assets/colab-badge.svg\" alt=\"Open In Colab\"/></a>"
      ]
    },
    {
      "cell_type": "markdown",
      "metadata": {
        "id": "pD92M8aTH5Tn"
      },
      "source": [
        "# Asymptotic complexity\n",
        "- COMP 1828 IT lab: 27 Sep 2021\n",
        "$\\newcommand{\\Vec}[1]{\\boldsymbol{#1}}$\n",
        "$\\newcommand{\\Mat}[1]{\\boldsymbol{#1}}$\n",
        "## Aim\n",
        "- Revise the (rough) definition of the complexity.\n",
        "## Note: to execute a cell, press SHIFT + ENTER"
      ]
    },
    {
      "cell_type": "markdown",
      "metadata": {
        "id": "wV5ws1hMEhEU"
      },
      "source": [
        "## Before tackling problems, please import libraries by executing this cell.\n",
        "- matplotlib: for plotting\n",
        "- NumPy: for vectors, matrices\n"
      ]
    },
    {
      "cell_type": "code",
      "metadata": {
        "id": "Pr_DG_GXkBX-"
      },
      "source": [
        "%matplotlib inline\n",
        "import matplotlib.pyplot as plt # for plotting\n",
        "import seaborn as sns; sns.set()  # for plot styling\n",
        "import numpy as np # linear algebra library"
      ],
      "execution_count": null,
      "outputs": []
    },
    {
      "cell_type": "markdown",
      "metadata": {
        "id": "RTaAimvbtX7N"
      },
      "source": [
        "## Revision: Asymptotic complexity\n",
        "- Basic ideas: \n",
        "  - ignore a constant factor,\n",
        "  - consider a sufficiently large argument.\n",
        "- **Big-O**: $T(n) = O(g(n))$: $T(n)$ is asymptotically upper-bounded by $g(n)$.\n",
        "  - Mathematical definition: $\\exists M > 0, \\exists n_0 \\ge 0: n \\ge n_0 \\Rightarrow T(n) \\le M g(n)$.\n",
        "  - For sufficiently large $n$, $T(n)$ is upper-bounded by $g(n)$ up to a constant factor.\n",
        "- **Big-Omega**: $T(n) = \\Omega (g(n))$: $T(n)$ is asymptotically lower-bounded by $g(n)$.\n",
        "  - Mathematical definition: $\\exists M > 0, \\exists n_0 \\ge 0: n \\ge n_0 \\Rightarrow T(n) \\ge M g(n)$.\n",
        "  - For sufficiently large $n$, $T(n)$ is lower-bounded by $g(n)$ up to a constant factor.\n",
        "- **Big-Theta**: $T(n) = \\Theta (g(n))$: $T(n)$ is asymptotically lower-bounded by $g(n)$.\n",
        "  - Mathematical definition: $T(n) = O(n)$ and $T(n) = \\Omega(n)$.\n",
        "  - For sufficiently large $n$, $T(n)$ is upper and lower-bounded by $g(n)$ up to a constant factor (different constants for upper and lower-bounded).\n"
      ]
    },
    {
      "cell_type": "markdown",
      "metadata": {
        "id": "TKYNXFhEU5pZ"
      },
      "source": [
        "## Question 1\n",
        "(a) The following algorithms examined have revealed what their operation count is. \n",
        "Using this as a starting point what is the order ($\\Theta$) for each of the algorithms below? Where $n$ denotes the size of the problem input:\n",
        "- Algorithm A: $n^4 + 2n + 1$,\n",
        "- Algorithm B: $3n^2 + 4000 n + 2000$,\n",
        "- Algorithm C: $2^n + n^2$,\n",
        "- Algorithm D: $n + 100 n \\log_2 n + 10000$."
      ]
    },
    {
      "cell_type": "markdown",
      "metadata": {
        "id": "3i34l9uFW_CD"
      },
      "source": [
        "(b) Which is the most and least efficient of the algorithms above when\n",
        "\n",
        "- i). $n = 10$,\n",
        "\n",
        "- ii). $n = 10^3 = 1000$.\n"
      ]
    },
    {
      "cell_type": "markdown",
      "metadata": {
        "id": "YLUIb2Iizsr4"
      },
      "source": [
        "You can use the following cell as a calculator"
      ]
    },
    {
      "cell_type": "code",
      "metadata": {
        "colab": {
          "base_uri": "https://localhost:8080/"
        },
        "id": "bk4tuQWe2HS3",
        "outputId": "b355930d-a334-4334-dfb6-f29e52e7a953"
      },
      "source": [
        "import numpy as np\n",
        "print('Algorithm A with n = 10:', 10 ** 4 + 2 * 10 + 1)\n",
        "print('Algorithm B with n = 10:', 3 * (10 ** 2) + 4000 * 10 + 2000)\n",
        "print('Algorithm C with n = 10:', 2 ** 10 + 10 ** 2)\n",
        "print('Algorithm D with n = 10:', 10 + 100 * 10 * np.log2(10) + 10000)\n"
      ],
      "execution_count": 17,
      "outputs": [
        {
          "output_type": "stream",
          "name": "stdout",
          "text": [
            "Algorithm A with n = 10: 10021\n",
            "Algorithm B with n = 10: 42300\n",
            "Algorithm C with n = 10: 1124\n",
            "Algorithm D with n = 10: 13331.928094887362\n"
          ]
        }
      ]
    },
    {
      "cell_type": "markdown",
      "metadata": {
        "id": "Yo5c5Rz7XMm8"
      },
      "source": [
        "Note: in this big data era, $n$ can be $10^7$ or $10^8$; hence the asymptotic complexity is getting more important."
      ]
    },
    {
      "cell_type": "markdown",
      "metadata": {
        "id": "FmzCuR0lXlHc"
      },
      "source": [
        "## Question 2\n",
        "The table below gives the complexities of some sorting algorithms.\n",
        "\n",
        "| Sorting algorithm | Worst case time complexity | Average time complexity | (Auxiliary) space complexity |\n",
        "| :--- | ---: | ---: | ---: |\n",
        "| bubble sort | $\\Theta (n^2)$ | $\\Theta (n^2)$ | $\\Theta (1)$ |\n",
        "| heap sort | $\\Theta (n \\log n)$ | $\\Theta (n \\log n)$ | $\\Theta (1)$ |\n",
        "| merge sort | $\\Theta (n \\log n)$ | $\\Theta (n \\log n)$ | $\\Theta (n)$ |\n",
        "| quick sort | $\\Theta (n^2)$ | $\\Theta (n \\log n)$ | $\\Theta (n \\log n)$ |\n",
        "\n",
        "For a list of $n$ elements that need to be sorted, comment of the efficiency of the algorithms. \n",
        "Which is the best, worst and which would you recommend in that case.\n",
        "\n",
        "- i). $n = 10$,\n",
        "\n",
        "- ii). $n = 10^7 = 10000000$.\n"
      ]
    },
    {
      "cell_type": "markdown",
      "metadata": {
        "id": "TPnjoP7WoVI3"
      },
      "source": [
        "### Question 2 Appendix: Calculate the elapsed time\n",
        "In the following cell, we calculate the elapsed time of aort algorithms for sequences of size $n = 1, 2, \\dots, 100$. The execution may take a few minutes."
      ]
    },
    {
      "cell_type": "code",
      "metadata": {
        "id": "ExgXJrbPjhcx"
      },
      "source": [
        "import numpy as np\n",
        "import time\n",
        "ns = 500 * np.arange(10, dtype=int)\n",
        "\n",
        "def bubble_sort(seq):\n",
        "  n = len(seq)\n",
        "  for i in range(n):\n",
        "    for j in range(n-1, i, -1):\n",
        "        if seq[j-1] > seq[j]:\n",
        "          seq[j], seq[j-1] = seq[j-1], seq[j]\n",
        "  return seq\n",
        "\n",
        "sort_algs = {\n",
        "  'bubble': lambda x: bubble_sort(x),\n",
        "  'heap': lambda x: np.sort(x, kind='heapsort'),\n",
        "  'merge': lambda x: np.sort(x, kind='mergesort'),\n",
        "  'quick': lambda x: np.sort(x, kind='quicksort'),\n",
        "}\n",
        "elapsed_times = {alg_name: np.zeros_like(ns, dtype=float) for alg_name in sort_algs}\n",
        "\n",
        "for i, n in enumerate(ns):\n",
        "  seq = np.random.default_rng(0).choice(n, size=n, replace=False) # random sequence\n",
        "  for alg_name, sort_alg in sort_algs.items():\n",
        "    starting_time = time.time()\n",
        "    sorted_seq = sort_alg(seq)\n",
        "    end_time = time.time()\n",
        "    elapsed_times[alg_name][i] = end_time - starting_time\n"
      ],
      "execution_count": 18,
      "outputs": []
    },
    {
      "cell_type": "markdown",
      "metadata": {
        "id": "qp1jwQgNvg3G"
      },
      "source": [
        "### Question 2 Appendix: Plot the elapsed time of sort algorithms"
      ]
    },
    {
      "cell_type": "code",
      "metadata": {
        "colab": {
          "base_uri": "https://localhost:8080/",
          "height": 322
        },
        "id": "PMYG4r8toyxL",
        "outputId": "92856215-12b8-4747-8b84-a6c545fa6ad0"
      },
      "source": [
        "import matplotlib.pyplot as plt\n",
        "import seaborn as sns; sns.set()\n",
        "for alg_name, elapsed_time in elapsed_times.items():\n",
        "  plt.plot(ns, elapsed_time, label=alg_name)\n",
        "plt.xlabel('input size $n$')\n",
        "plt.ylabel('elapsed time /s')\n",
        "plt.legend()\n",
        "plt.title('Elapsed times of sort algorithms')"
      ],
      "execution_count": 19,
      "outputs": [
        {
          "output_type": "execute_result",
          "data": {
            "text/plain": [
              "Text(0.5, 1.0, 'Elapsed times of sort algorithms')"
            ]
          },
          "metadata": {},
          "execution_count": 19
        },
        {
          "output_type": "display_data",
          "data": {
            "image/png": "[encoded data removed]",
            "text/plain": [
              "<Figure size 432x288 with 1 Axes>"
            ]
          },
          "metadata": {}
        }
      ]
    },
    {
      "cell_type": "markdown",
      "metadata": {
        "id": "seJmbHz_3Kvk"
      },
      "source": [
        "Note: if it took 5 seconds to show the search result, customers would not use your website."
      ]
    },
    {
      "cell_type": "markdown",
      "metadata": {
        "id": "91COd8MRvpQH"
      },
      "source": [
        "### Question 2 Appendix: Plot the elapsed time of sort algorithms (other than the quick sort)"
      ]
    },
    {
      "cell_type": "code",
      "metadata": {
        "colab": {
          "base_uri": "https://localhost:8080/",
          "height": 322
        },
        "id": "_w9dihKKq7NJ",
        "outputId": "793a8cf9-9527-42af-c9bb-51dba6a2c9fc"
      },
      "source": [
        "import matplotlib.pyplot as plt\n",
        "import seaborn as sns; sns.set()\n",
        "for alg_name, elapsed_time in {alg_name: elapsed_time for alg_name, elapsed_time in elapsed_times.items() if alg_name != 'bubble'}.items():\n",
        "  plt.plot(ns, elapsed_time, label=alg_name)\n",
        "plt.xlabel('input size $n$')\n",
        "plt.ylabel('elapsed time /s')\n",
        "plt.legend()\n",
        "plt.title('Elapsed times of sort algorithms')"
      ],
      "execution_count": 20,
      "outputs": [
        {
          "output_type": "execute_result",
          "data": {
            "text/plain": [
              "Text(0.5, 1.0, 'Elapsed times of sort algorithms')"
            ]
          },
          "metadata": {},
          "execution_count": 20
        },
        {
          "output_type": "display_data",
          "data": {
            "image/png": "[encoded data removed]",
            "text/plain": [
              "<Figure size 432x288 with 1 Axes>"
            ]
          },
          "metadata": {}
        }
      ]
    },
    {
      "cell_type": "markdown",
      "metadata": {
        "id": "2VwwDqStel7B"
      },
      "source": [
        "## Question 3\n",
        "A square matrix has the same number of rows and columns and its size is defined by the variable $n$. \n",
        "Below is a code to generate two random matrices `A` and `B` of the size of `n`.\n",
        "\n"
      ]
    },
    {
      "cell_type": "code",
      "metadata": {
        "colab": {
          "base_uri": "https://localhost:8080/",
          "height": 218
        },
        "id": "ULSo2Q3NgDgo",
        "outputId": "35ae68f2-41fc-47cd-922b-449e147ffc38"
      },
      "source": [
        "# Students do not need to understand this cell.\n",
        "import numpy as np\n",
        "def gen_rand_sq_mat(n):\n",
        "  max_int = 2000\n",
        "  rng = np.random.default_rng(0)\n",
        "  A, B = rng.integers(max_int, size=[n, n]), rng.integers(max_int, size=[n, n])\n",
        "  return A, B\n",
        "A, B = gen_rand_sq_mat(n=5)\n",
        "print('A =')\n",
        "display(A)\n",
        "print('B =')\n",
        "display(B)"
      ],
      "execution_count": 21,
      "outputs": [
        {
          "output_type": "stream",
          "name": "stdout",
          "text": [
            "A =\n"
          ]
        },
        {
          "output_type": "display_data",
          "data": {
            "text/plain": [
              "array([[1701, 1273, 1022,  539,  615],\n",
              "       [  81,  150,   33,  350, 1626],\n",
              "       [1298, 1825, 1007, 1213, 1941],\n",
              "       [1458, 1264, 1087, 1119, 1870],\n",
              "       [ 554, 1631, 1341,    5,  788]])"
            ]
          },
          "metadata": {}
        },
        {
          "output_type": "stream",
          "name": "stdout",
          "text": [
            "B =\n"
          ]
        },
        {
          "output_type": "display_data",
          "data": {
            "text/plain": [
              "array([[1714, 1108,   67, 1529, 1459],\n",
              "       [1693,  351,  178, 1726,   44],\n",
              "       [1082,  160,  599,  962,  845],\n",
              "       [ 806,   56,   10,  248,   16],\n",
              "       [1341, 1051, 1294,  514, 1230]])"
            ]
          },
          "metadata": {}
        }
      ]
    },
    {
      "cell_type": "markdown",
      "metadata": {
        "id": "fmj2ezwLgCEU"
      },
      "source": [
        "The code fragment below performs the multiplication of two square matrices `A` and `B` and stores the result in matrix `C`."
      ]
    },
    {
      "cell_type": "code",
      "metadata": {
        "id": "RnPn75q5fcJs"
      },
      "source": [
        "def mat_mul(A, B, n):\n",
        "  # initialize `C`: Please ignore this line from the complexity discussion.\n",
        "  C = np.zeros([n, n], dtype=int)\n",
        "\n",
        "  #loop over rows\n",
        "  for i in range(n):\n",
        "    #loop over columns\n",
        "    for j in range(n):\n",
        "      #initialise element c[i,j]\n",
        "      C[i, j] = 0\n",
        "      #process row-column interactions and sum them into array c\n",
        "      for k in range(n):\n",
        "        C[i, j] = C[i, j] + A[i, k] * B[k, j]\n",
        "  return C"
      ],
      "execution_count": 22,
      "outputs": []
    },
    {
      "cell_type": "markdown",
      "metadata": {
        "id": "2pHp43AZiRx1"
      },
      "source": [
        "**Question**: what is the computational complexity in terms of $n$ (`n` in the code) for the algorithm? \n",
        "Here, assume that it takes time $c$ for each assignment, addition, and multiplication operation.\n"
      ]
    },
    {
      "cell_type": "markdown",
      "metadata": {
        "id": "7Nd6Wg67mt6O"
      },
      "source": [
        "### Question 3 Appendix: Calculate the elapsed time\n",
        "In the following cell, we calculate the elapsed time of matrix multiplication for matrices of size $n = 1, 2, \\dots, 100$. The execution may take a few minutes."
      ]
    },
    {
      "cell_type": "code",
      "metadata": {
        "id": "8xSLmHrnnzoW"
      },
      "source": [
        "import time\n",
        "ns = np.arange(100, dtype=int)\n",
        "elapsed_times = np.zeros_like(ns, dtype=float)\n",
        "for i, n in enumerate(ns):\n",
        "  A, B = gen_rand_sq_mat(n)\n",
        "  starting_time = time.time()\n",
        "  C = mat_mul(A, B, n)\n",
        "  end_time = time.time()\n",
        "  elapsed_times[i] = end_time - starting_time\n"
      ],
      "execution_count": 23,
      "outputs": []
    },
    {
      "cell_type": "markdown",
      "metadata": {
        "id": "FkTYFiG9qnaH"
      },
      "source": [
        "### Question 3 Appendix: Plot the elapsed time"
      ]
    },
    {
      "cell_type": "code",
      "metadata": {
        "colab": {
          "base_uri": "https://localhost:8080/",
          "height": 306
        },
        "id": "uZy8dol_qmvA",
        "outputId": "6ed30794-336d-4787-d4f7-d10faab7271d"
      },
      "source": [
        "import matplotlib.pyplot as plt\n",
        "import seaborn as sns; sns.set()\n",
        "plt.plot(ns, elapsed_times)\n",
        "plt.xlabel('input size $n$')\n",
        "plt.ylabel('elapsed time /s')"
      ],
      "execution_count": 24,
      "outputs": [
        {
          "output_type": "execute_result",
          "data": {
            "text/plain": [
              "Text(0, 0.5, 'elapsed time /s')"
            ]
          },
          "metadata": {},
          "execution_count": 24
        },
        {
          "output_type": "display_data",
          "data": {
            "image/png": "[encoded data removed]",
            "text/plain": [
              "<Figure size 432x288 with 1 Axes>"
            ]
          },
          "metadata": {}
        }
      ]
    },
    {
      "cell_type": "markdown",
      "metadata": {
        "id": "fOZIM9_krh-N"
      },
      "source": [
        "### Question 3 Appendix: Scale the x-axis to see the asymptotic complexity describes the behaviour of the performance for a large $n$. (PLEASE MODIFY CODES)"
      ]
    },
    {
      "cell_type": "code",
      "metadata": {
        "id": "aJjCZaDimYFi"
      },
      "source": [
        "import numpy as np\n",
        "\n",
        "def complexity_scale(n):\n",
        "  # ---- Modify codes here ---- #\n",
        "  # Assign the asymptotic complexity of the algorithm `mat_mul`.\n",
        "  # Example 1: If the algorithm is on the order of n^5, then please assign\n",
        "  # complexity = n ** 5\n",
        "  # Example 2: If the algorithm is on the order of 2^n log n, then please assign\n",
        "  # complexity = n * np.log2(n) \n",
        "  complexity = n * np.log2(n)\n",
        "  # ---- Modify codes here ---- #\n",
        "  return complexity"
      ],
      "execution_count": 25,
      "outputs": []
    },
    {
      "cell_type": "markdown",
      "metadata": {
        "id": "v0CI7XqusA6s"
      },
      "source": [
        "### Question 3 Appendix: Plot with the scaled x-axis\n",
        "If you define the `complexity_scale` function correctly, the plot will look like a linear function."
      ]
    },
    {
      "cell_type": "code",
      "metadata": {
        "colab": {
          "base_uri": "https://localhost:8080/",
          "height": 369
        },
        "id": "Oa7xPb2uo3DD",
        "outputId": "1a0374a0-c372-4c3a-ba6f-70c337bba5b6"
      },
      "source": [
        "import matplotlib.pyplot as plt\n",
        "import seaborn as sns; sns.set()\n",
        "plt.plot(complexity_scale(ns), elapsed_times)\n",
        "plt.xlabel('scaled input size')\n",
        "plt.ylabel('elapsed time')"
      ],
      "execution_count": 26,
      "outputs": [
        {
          "output_type": "stream",
          "name": "stderr",
          "text": [
            "/usr/local/lib/python3.7/dist-packages/ipykernel_launcher.py:10: RuntimeWarning: divide by zero encountered in log2\n",
            "  # Remove the CWD from sys.path while we load stuff.\n",
            "/usr/local/lib/python3.7/dist-packages/ipykernel_launcher.py:10: RuntimeWarning: invalid value encountered in multiply\n",
            "  # Remove the CWD from sys.path while we load stuff.\n"
          ]
        },
        {
          "output_type": "execute_result",
          "data": {
            "text/plain": [
              "Text(0, 0.5, 'elapsed time')"
            ]
          },
          "metadata": {},
          "execution_count": 26
        },
        {
          "output_type": "display_data",
          "data": {
            "image/png": "[encoded data removed]",
            "text/plain": [
              "<Figure size 432x288 with 1 Axes>"
            ]
          },
          "metadata": {}
        }
      ]
    },
    {
      "cell_type": "markdown",
      "metadata": {
        "id": "_9wLoNgdh5rB"
      },
      "source": [
        "Note: Let's check the result."
      ]
    },
    {
      "cell_type": "code",
      "metadata": {
        "colab": {
          "base_uri": "https://localhost:8080/",
          "height": 521
        },
        "id": "iAuVFPSmh83B",
        "outputId": "a50c6b59-e38f-4e97-f44b-7778b8b4aacc"
      },
      "source": [
        "print('The result of numpy multiplication:')\n",
        "display(A @ B)\n",
        "print('The result by our implementation:')\n",
        "display(mat_mul(A, B, n))"
      ],
      "execution_count": null,
      "outputs": [
        {
          "output_type": "stream",
          "name": "stdout",
          "text": [
            "The result of numpy multiplication:\n"
          ]
        },
        {
          "output_type": "display_data",
          "data": {
            "text/plain": [
              "array([[ 95917373, 107581091,  91682683, ...,  99314384,  86674112,\n",
              "         98180917],\n",
              "       [105012651, 125254042, 100360427, ..., 114697492,  89680525,\n",
              "        101816679],\n",
              "       [ 99170527, 106872373,  82895258, ...,  98018404,  79611097,\n",
              "        103831469],\n",
              "       ...,\n",
              "       [106283206, 111303997,  92370045, ..., 108085004,  93950658,\n",
              "        102789533],\n",
              "       [102585998, 114499234,  96574703, ..., 109148927,  93773337,\n",
              "         99194409],\n",
              "       [ 90297021,  99588345,  81277110, ...,  95696575,  83902039,\n",
              "         91880523]])"
            ]
          },
          "metadata": {}
        },
        {
          "output_type": "stream",
          "name": "stdout",
          "text": [
            "The result by our implementation:\n"
          ]
        },
        {
          "output_type": "display_data",
          "data": {
            "text/plain": [
              "array([[ 95917373, 107581091,  91682683, ...,  99314384,  86674112,\n",
              "         98180917],\n",
              "       [105012651, 125254042, 100360427, ..., 114697492,  89680525,\n",
              "        101816679],\n",
              "       [ 99170527, 106872373,  82895258, ...,  98018404,  79611097,\n",
              "        103831469],\n",
              "       ...,\n",
              "       [106283206, 111303997,  92370045, ..., 108085004,  93950658,\n",
              "        102789533],\n",
              "       [102585998, 114499234,  96574703, ..., 109148927,  93773337,\n",
              "         99194409],\n",
              "       [ 90297021,  99588345,  81277110, ...,  95696575,  83902039,\n",
              "         91880523]])"
            ]
          },
          "metadata": {}
        }
      ]
    }
  ]
}